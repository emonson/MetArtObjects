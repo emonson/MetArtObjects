{
 "cells": [
  {
   "cell_type": "code",
   "execution_count": 1,
   "metadata": {},
   "outputs": [],
   "source": [
    "import pandas as pd"
   ]
  },
  {
   "cell_type": "markdown",
   "metadata": {},
   "source": [
    "## Read in data, but all as strings for now"
   ]
  },
  {
   "cell_type": "code",
   "execution_count": 2,
   "metadata": {},
   "outputs": [],
   "source": [
    "df = pd.read_csv(\n",
    "    'MetObjects.csv',\n",
    "    sep=',',\n",
    "    encoding='utf-8',\n",
    "    dtype='str'\n",
    ")"
   ]
  },
  {
   "cell_type": "markdown",
   "metadata": {},
   "source": [
    "## Getting rid of multi-line cells so Mac text import will work properly\n",
    "\n",
    "Character is `\\r\\n`, which corresponds to `\\x0D\\x0A` according to:\n",
    "\n",
    "https://en.wikipedia.org/wiki/Newline\n"
   ]
  },
  {
   "cell_type": "code",
   "execution_count": 3,
   "metadata": {},
   "outputs": [
    {
     "data": {
      "text/plain": [
       "'Overall: 19 7/16 x 13 x 9 1/4 in. (49.4 x 33 x 23.5 cm); 352 oz. 18 dwt. (10977 g)\\r\\nBody: H. 18 7/8 in. (47.9 cm)\\r\\nCover: 4 1/4 x 4 13/16 in. (10.8 x 12.2 cm); 19 oz. 6 dwt. (600.1 g)'"
      ]
     },
     "execution_count": 3,
     "metadata": {},
     "output_type": "execute_result"
    }
   ],
   "source": [
    "df.loc[34,'Dimensions']"
   ]
  },
  {
   "cell_type": "code",
   "execution_count": 4,
   "metadata": {},
   "outputs": [
    {
     "name": "stdout",
     "output_type": "stream",
     "text": [
      "Object Number\n",
      "Is Highlight\n",
      "Is Public Domain\n",
      "Is Timeline Work\n",
      "Object ID\n",
      "Department\n",
      "AccessionYear\n",
      "Object Name\n",
      "Title\n",
      "Culture\n",
      "Period\n",
      "Dynasty\n",
      "Reign\n",
      "Portfolio\n",
      "Artist Role\n",
      "Artist Prefix\n",
      "Artist Display Name\n",
      "Artist Display Bio\n",
      "Artist Suffix\n",
      "Artist Alpha Sort\n",
      "Artist Nationality\n",
      "Artist Begin Date\n",
      "Artist End Date\n",
      "Artist Gender\n",
      "Artist ULAN URL\n",
      "Artist Wikidata URL\n",
      "Object Date\n",
      "Object Begin Date\n",
      "Object End Date\n",
      "Medium\n",
      "Dimensions\n",
      "Credit Line\n",
      "Geography Type\n",
      "City\n",
      "State\n",
      "County\n",
      "Country\n",
      "Region\n",
      "Subregion\n",
      "Locale\n",
      "Locus\n",
      "Excavation\n",
      "River\n",
      "Classification\n",
      "Rights and Reproduction\n",
      "Link Resource\n",
      "Object Wikidata URL\n",
      "Metadata Date\n",
      "Repository\n",
      "Tags\n",
      "Tags AAT URL\n"
     ]
    }
   ],
   "source": [
    "for cc in df.columns:\n",
    "    print(cc)\n",
    "    df[cc] = df[cc].str.replace('\\x0D\\x0A','|')"
   ]
  },
  {
   "cell_type": "code",
   "execution_count": 5,
   "metadata": {},
   "outputs": [
    {
     "data": {
      "text/plain": [
       "'Overall: 19 7/16 x 13 x 9 1/4 in. (49.4 x 33 x 23.5 cm); 352 oz. 18 dwt. (10977 g)|Body: H. 18 7/8 in. (47.9 cm)|Cover: 4 1/4 x 4 13/16 in. (10.8 x 12.2 cm); 19 oz. 6 dwt. (600.1 g)'"
      ]
     },
     "execution_count": 5,
     "metadata": {},
     "output_type": "execute_result"
    }
   ],
   "source": [
    "df.loc[34,'Dimensions']"
   ]
  },
  {
   "cell_type": "markdown",
   "metadata": {},
   "source": [
    "## Save out new version without multi-line cells"
   ]
  },
  {
   "cell_type": "code",
   "execution_count": 6,
   "metadata": {},
   "outputs": [],
   "source": [
    "df.to_csv(\"MetObjects_NoMultiline.csv\",\n",
    "           sep=',',\n",
    "           index=False,\n",
    "           encoding='utf-8'\n",
    "          )"
   ]
  },
  {
   "cell_type": "markdown",
   "metadata": {},
   "source": [
    "### Documenting how many Alt-Enter characters were in each column\n",
    "\n",
    "Alt-enter : Alt-Enter + Pipe : Pipe\n",
    "\n",
    "```\n",
    "Object Number : 0 : 0 : 0\n",
    "Is Highlight : 0 : 0 : 0\n",
    "Is Public Domain : 0 : 0 : 0\n",
    "Is Timeline Work : 0 : 0 : 0\n",
    "Object ID : 0 : 0 : 0\n",
    "Department : 0 : 0 : 0\n",
    "AccessionYear : 0 : 0 : 0\n",
    "Object Name : 1040 : 0 : 0\n",
    "Title : 0 : 0 : 6492\n",
    "Culture : 4 : 0 : 0\n",
    "Period : 11 : 0 : 0\n",
    "Dynasty : 0 : 0 : 0\n",
    "Reign : 0 : 0 : 0\n",
    "Portfolio : 698 : 0 : 0\n",
    "Artist Role : 0 : 0 : 92402\n",
    "Artist Prefix : 0 : 0 : 18363\n",
    "Artist Display Name : 0 : 0 : 92402\n",
    "Artist Display Bio : 0 : 0 : 72640\n",
    "Artist Suffix : 0 : 0 : 584\n",
    "Artist Alpha Sort : 0 : 0 : 92382\n",
    "Artist Nationality : 0 : 0 : 55858\n",
    "Artist Begin Date : 0 : 0 : 69274\n",
    "Artist End Date : 0 : 0 : 69030\n",
    "Artist Gender : 0 : 0 : 92402\n",
    "Artist ULAN URL : 0 : 0 : 92402\n",
    "Artist Wikidata URL : 0 : 0 : 92402\n",
    "Object Date : 121 : 0 : 0\n",
    "Object Begin Date : 0 : 0 : 0\n",
    "Object End Date : 0 : 0 : 0\n",
    "Medium : 3651 : 0 : 1\n",
    "Dimensions : 78345 : 0 : 0\n",
    "Credit Line : 1902 : 0 : 0\n",
    "Geography Type : 0 : 0 : 2375\n",
    "City : 0 : 0 : 754\n",
    "State : 0 : 0 : 1717\n",
    "County : 0 : 0 : 59\n",
    "Country : 0 : 0 : 1093\n",
    "Region : 0 : 0 : 17\n",
    "Subregion : 0 : 0 : 138\n",
    "Locale : 0 : 0 : 3\n",
    "Locus : 0 : 0 : 6\n",
    "Excavation : 0 : 0 : 4\n",
    "River : 0 : 0 : 0\n",
    "Classification : 0 : 0 : 66864\n",
    "Rights and Reproduction : 77 : 0 : 0\n",
    "Link Resource : 0 : 0 : 0\n",
    "Object Wikidata URL : 0 : 0 : 0\n",
    "Metadata Date : 0 : 0 : 0\n",
    "Repository : 0 : 0 : 0\n",
    "Tags : 0 : 0 : 130751\n",
    "Tags AAT URL : 0 : 0 : 130007\n",
    "```"
   ]
  }
 ],
 "metadata": {
  "kernelspec": {
   "display_name": "Python 3",
   "language": "python",
   "name": "python3"
  },
  "language_info": {
   "codemirror_mode": {
    "name": "ipython",
    "version": 3
   },
   "file_extension": ".py",
   "mimetype": "text/x-python",
   "name": "python",
   "nbconvert_exporter": "python",
   "pygments_lexer": "ipython3",
   "version": "3.7.7"
  }
 },
 "nbformat": 4,
 "nbformat_minor": 4
}
