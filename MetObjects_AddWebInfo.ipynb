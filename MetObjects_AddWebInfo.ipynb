{
 "cells": [
  {
   "cell_type": "code",
   "execution_count": 1,
   "metadata": {},
   "outputs": [],
   "source": [
    "import pandas as pd"
   ]
  },
  {
   "cell_type": "markdown",
   "metadata": {},
   "source": [
    "## Take a look at the column headers and first row to decide data types"
   ]
  },
  {
   "cell_type": "code",
   "execution_count": 2,
   "metadata": {},
   "outputs": [
    {
     "data": {
      "text/plain": [
       "Object Number                                                     1979.486.1\n",
       "Is Highlight                                                           False\n",
       "Is Public Domain                                                       False\n",
       "Is Timeline Work                                                       False\n",
       "Object ID                                                                  1\n",
       "Department                                                 The American Wing\n",
       "AccessionYear                                                           1979\n",
       "Object Name                                                             Coin\n",
       "Title                                           One-dollar Liberty Head Coin\n",
       "Culture                                                                  NaN\n",
       "Period                                                                   NaN\n",
       "Dynasty                                                                  NaN\n",
       "Reign                                                                    NaN\n",
       "Portfolio                                                                NaN\n",
       "Artist Role                                                            Maker\n",
       "Artist Prefix                                                            NaN\n",
       "Artist Display Name                                    James Barton Longacre\n",
       "Artist Display Bio         American, Delaware County, Pennsylvania 1794–1...\n",
       "Artist Suffix                                                            NaN\n",
       "Artist Alpha Sort                                     Longacre, James Barton\n",
       "Artist Nationality                                                  American\n",
       "Artist Begin Date                                                 1794      \n",
       "Artist End Date                                                   1869      \n",
       "Artist Gender                                                            NaN\n",
       "Artist ULAN URL                   http://vocab.getty.edu/page/ulan/500011409\n",
       "Artist Wikidata URL                                                      NaN\n",
       "Object Date                                                             1853\n",
       "Object Begin Date                                                       1853\n",
       "Object End Date                                                         1853\n",
       "Medium                                                                  Gold\n",
       "Dimensions                                            Dimensions unavailable\n",
       "Credit Line                               Gift of Heinz L. Stoppelmann, 1979\n",
       "Geography Type                                                           NaN\n",
       "City                                                                     NaN\n",
       "State                                                                    NaN\n",
       "County                                                                   NaN\n",
       "Country                                                                  NaN\n",
       "Region                                                                   NaN\n",
       "Subregion                                                                NaN\n",
       "Locale                                                                   NaN\n",
       "Locus                                                                    NaN\n",
       "Excavation                                                               NaN\n",
       "River                                                                    NaN\n",
       "Classification                                                         Metal\n",
       "Rights and Reproduction                                                  NaN\n",
       "Link Resource               http://www.metmuseum.org/art/collection/search/1\n",
       "Object Wikidata URL                                                      NaN\n",
       "Metadata Date                                                            NaN\n",
       "Repository                          Metropolitan Museum of Art, New York, NY\n",
       "Tags                                                                     NaN\n",
       "Tags AAT URL                                                             NaN\n",
       "Name: 0, dtype: object"
      ]
     },
     "execution_count": 2,
     "metadata": {},
     "output_type": "execute_result"
    }
   ],
   "source": [
    "df_one = pd.read_csv('MetObjects_NoMultiline.csv',sep=',',encoding='utf-8',nrows=1,dtype='str')\n",
    "df_one.loc[0,:]"
   ]
  },
  {
   "cell_type": "markdown",
   "metadata": {},
   "source": [
    "### Set column data types"
   ]
  },
  {
   "cell_type": "code",
   "execution_count": 3,
   "metadata": {},
   "outputs": [],
   "source": [
    "dtypes = {\n",
    "    \"Object Number\":\"str\",\n",
    "    \"Is Highlight\":\"bool\",\n",
    "    \"Is Public Domain\":\"bool\",\n",
    "    \"Is Timeline Work\":\"bool\",\n",
    "    \"Object ID\":\"int\",\n",
    "    \"Department\":\"category\",\n",
    "    \"AccessionYear\":\"str\",\n",
    "    \"Object Name\":\"category\",\n",
    "    \"Title\":\"str\",\n",
    "    \"Culture\":\"category\",\n",
    "    \"Period\":\"category\",\n",
    "    \"Dynasty\":\"category\",\n",
    "    \"Reign\":\"category\",\n",
    "    \"Portfolio\":\"str\",\n",
    "    \"Artist Role\":\"category\",\n",
    "    \"Artist Prefix\":\"category\",\n",
    "    \"Artist Display Name\":\"str\",\n",
    "    \"Artist Display Bio\":\"str\",\n",
    "    \"Artist Suffix\":\"category\",\n",
    "    \"Artist Alpha Sort\":\"str\",\n",
    "    \"Artist Nationality\":\"category\",\n",
    "    \"Artist Begin Date\":\"str\",\n",
    "    \"Artist End Date\":\"str\",\n",
    "    \"Artist Gender\":\"category\",\n",
    "    \"Artist ULAN URL\":\"str\",\n",
    "    \"Artist Wikidata URL\":\"str\",\n",
    "    \"Object Date\":\"str\",\n",
    "    \"Object Begin Date\":\"str\",\n",
    "    \"Object End Date\":\"str\",\n",
    "    \"Medium\":\"category\",\n",
    "    \"Dimensions\":\"str\",\n",
    "    \"Credit Line\":\"str\",\n",
    "    \"Geography Type\":\"category\",\n",
    "    \"City\":\"category\",\n",
    "    \"State\":\"category\",\n",
    "    \"County\":\"category\",\n",
    "    \"Country\":\"category\",\n",
    "    \"Region\":\"category\",\n",
    "    \"Subregion\":\"category\",\n",
    "    \"Locale\":\"category\",\n",
    "    \"Locus\":\"category\",\n",
    "    \"Excavation\":\"category\",\n",
    "    \"River\":\"category\",\n",
    "    \"Classification\":\"category\",\n",
    "    \"Rights and Reproduction\":\"category\",\n",
    "    \"Link Resource\":\"str\",\n",
    "    \"Object Wikidata URL\":\"str\",\n",
    "    \"Metadata Date\":\"str\",\n",
    "    \"Repository\":\"category\",\n",
    "    \"Tags\":\"category\",\n",
    "    \"Tags AAT URL\":\"category\"\n",
    "}"
   ]
  },
  {
   "cell_type": "code",
   "execution_count": 5,
   "metadata": {},
   "outputs": [],
   "source": [
    "df = pd.read_csv(\n",
    "    'MetObjects_NoMultiline.csv',\n",
    "    sep=',',\n",
    "    encoding='utf-8',\n",
    "    dtype=dtypes,\n",
    "    true_values=['true','True','TRUE'],\n",
    "    false_values=['false','False','FALSE']\n",
    ")"
   ]
  },
  {
   "cell_type": "markdown",
   "metadata": {},
   "source": [
    "### Just forming some convenience lists for exploring value types"
   ]
  },
  {
   "cell_type": "code",
   "execution_count": 7,
   "metadata": {},
   "outputs": [],
   "source": [
    "cat_columns = [k for k,v in dtypes.items() if v=='category']\n",
    "bool_columns = [k for k,v in dtypes.items() if v=='bool']\n",
    "int_columns = [k for k,v in dtypes.items() if v=='int']\n",
    "str_columns = [k for k,v in dtypes.items() if v=='str']"
   ]
  },
  {
   "cell_type": "markdown",
   "metadata": {},
   "source": [
    "## Explore the range and dropoff in unique values for each type of column"
   ]
  },
  {
   "cell_type": "code",
   "execution_count": 8,
   "metadata": {},
   "outputs": [
    {
     "name": "stdout",
     "output_type": "stream",
     "text": [
      "Is Highlight\n",
      "False    472467\n",
      "True       2008\n",
      "Name: Is Highlight, dtype: int64\n",
      "\n",
      "\n",
      "Is Public Domain\n",
      "False    466505\n",
      "True       7970\n",
      "Name: Is Public Domain, dtype: int64\n",
      "\n",
      "\n",
      "Is Timeline Work\n",
      "False    239913\n",
      "True     234562\n",
      "Name: Is Timeline Work, dtype: int64\n",
      "\n",
      "\n"
     ]
    }
   ],
   "source": [
    "for col in bool_columns:\n",
    "    print(col)\n",
    "    print(df[col].value_counts())\n",
    "    print(\"\\n\")"
   ]
  },
  {
   "cell_type": "markdown",
   "metadata": {},
   "source": [
    "## Load in \"on view\" data that came from an API call\n",
    "\n",
    "[https://collectionapi.metmuseum.org/public/collection/v1/search?isOnView=True&q=\\*]()"
   ]
  },
  {
   "cell_type": "code",
   "execution_count": 14,
   "metadata": {},
   "outputs": [
    {
     "data": {
      "text/html": [
       "<div>\n",
       "<style scoped>\n",
       "    .dataframe tbody tr th:only-of-type {\n",
       "        vertical-align: middle;\n",
       "    }\n",
       "\n",
       "    .dataframe tbody tr th {\n",
       "        vertical-align: top;\n",
       "    }\n",
       "\n",
       "    .dataframe thead th {\n",
       "        text-align: right;\n",
       "    }\n",
       "</style>\n",
       "<table border=\"1\" class=\"dataframe\">\n",
       "  <thead>\n",
       "    <tr style=\"text-align: right;\">\n",
       "      <th></th>\n",
       "      <th>total</th>\n",
       "      <th>objectIDs</th>\n",
       "    </tr>\n",
       "  </thead>\n",
       "  <tbody>\n",
       "    <tr>\n",
       "      <th>0</th>\n",
       "      <td>36587</td>\n",
       "      <td>254738</td>\n",
       "    </tr>\n",
       "    <tr>\n",
       "      <th>1</th>\n",
       "      <td>36587</td>\n",
       "      <td>254747</td>\n",
       "    </tr>\n",
       "    <tr>\n",
       "      <th>2</th>\n",
       "      <td>36587</td>\n",
       "      <td>254735</td>\n",
       "    </tr>\n",
       "    <tr>\n",
       "      <th>3</th>\n",
       "      <td>36587</td>\n",
       "      <td>254741</td>\n",
       "    </tr>\n",
       "    <tr>\n",
       "      <th>4</th>\n",
       "      <td>36587</td>\n",
       "      <td>254733</td>\n",
       "    </tr>\n",
       "  </tbody>\n",
       "</table>\n",
       "</div>"
      ],
      "text/plain": [
       "   total  objectIDs\n",
       "0  36587     254738\n",
       "1  36587     254747\n",
       "2  36587     254735\n",
       "3  36587     254741\n",
       "4  36587     254733"
      ]
     },
     "execution_count": 14,
     "metadata": {},
     "output_type": "execute_result"
    }
   ],
   "source": [
    "df_onview = pd.read_json('OnViewTrue_Qstar.json')\n",
    "df_onview.head()"
   ]
  },
  {
   "cell_type": "code",
   "execution_count": 15,
   "metadata": {},
   "outputs": [
    {
     "data": {
      "text/html": [
       "<div>\n",
       "<style scoped>\n",
       "    .dataframe tbody tr th:only-of-type {\n",
       "        vertical-align: middle;\n",
       "    }\n",
       "\n",
       "    .dataframe tbody tr th {\n",
       "        vertical-align: top;\n",
       "    }\n",
       "\n",
       "    .dataframe thead th {\n",
       "        text-align: right;\n",
       "    }\n",
       "</style>\n",
       "<table border=\"1\" class=\"dataframe\">\n",
       "  <thead>\n",
       "    <tr style=\"text-align: right;\">\n",
       "      <th></th>\n",
       "      <th>objectIDs</th>\n",
       "      <th>on_view_api</th>\n",
       "    </tr>\n",
       "  </thead>\n",
       "  <tbody>\n",
       "    <tr>\n",
       "      <th>0</th>\n",
       "      <td>254738</td>\n",
       "      <td>True</td>\n",
       "    </tr>\n",
       "    <tr>\n",
       "      <th>1</th>\n",
       "      <td>254747</td>\n",
       "      <td>True</td>\n",
       "    </tr>\n",
       "    <tr>\n",
       "      <th>2</th>\n",
       "      <td>254735</td>\n",
       "      <td>True</td>\n",
       "    </tr>\n",
       "    <tr>\n",
       "      <th>3</th>\n",
       "      <td>254741</td>\n",
       "      <td>True</td>\n",
       "    </tr>\n",
       "    <tr>\n",
       "      <th>4</th>\n",
       "      <td>254733</td>\n",
       "      <td>True</td>\n",
       "    </tr>\n",
       "  </tbody>\n",
       "</table>\n",
       "</div>"
      ],
      "text/plain": [
       "   objectIDs  on_view_api\n",
       "0     254738         True\n",
       "1     254747         True\n",
       "2     254735         True\n",
       "3     254741         True\n",
       "4     254733         True"
      ]
     },
     "execution_count": 15,
     "metadata": {},
     "output_type": "execute_result"
    }
   ],
   "source": [
    "df_onview['on_view_api'] = True\n",
    "df_onview.drop(columns=['total'], inplace=True)\n",
    "df_onview.head()"
   ]
  },
  {
   "cell_type": "markdown",
   "metadata": {},
   "source": [
    "### Just checking data type of IDs since it should match with original table for JOIN"
   ]
  },
  {
   "cell_type": "code",
   "execution_count": 16,
   "metadata": {},
   "outputs": [
    {
     "data": {
      "text/plain": [
       "objectIDs      int64\n",
       "on_view_api     bool\n",
       "dtype: object"
      ]
     },
     "execution_count": 16,
     "metadata": {},
     "output_type": "execute_result"
    }
   ],
   "source": [
    "df_onview.dtypes"
   ]
  },
  {
   "cell_type": "markdown",
   "metadata": {},
   "source": [
    "## Merge OnDisplay with original table"
   ]
  },
  {
   "cell_type": "markdown",
   "metadata": {},
   "source": [
    "### First, make a quick check that there aren't any extra IDs\n",
    "\n",
    "Want to make sure there aren't any IDs in the API call JSON data that weren't in the original table"
   ]
  },
  {
   "cell_type": "code",
   "execution_count": 19,
   "metadata": {},
   "outputs": [
    {
     "data": {
      "text/plain": [
       "0"
      ]
     },
     "execution_count": 19,
     "metadata": {},
     "output_type": "execute_result"
    }
   ],
   "source": [
    "df_onview.merge(df['Object ID'],\n",
    "                left_on=\"objectIDs\",\n",
    "                right_on=\"Object ID\",\n",
    "                how='left')['Object ID'].isna().sum()"
   ]
  },
  {
   "cell_type": "code",
   "execution_count": 21,
   "metadata": {},
   "outputs": [],
   "source": [
    "df2 = df.merge(df_onview,\n",
    "         left_on=\"Object ID\",\n",
    "         right_on=\"objectIDs\",\n",
    "         how='left'\n",
    ").drop(columns=['objectIDs'])"
   ]
  },
  {
   "cell_type": "markdown",
   "metadata": {},
   "source": [
    "### Boolean and integer columns evidently can't have NaN values\n",
    "\n",
    "So, on join \"on_view_api\" gets cast as a string/object. \n",
    "\n",
    "**This may indicate that all of the True/False columns should be categorical or Int64 rather than boolean!!**"
   ]
  },
  {
   "cell_type": "code",
   "execution_count": 24,
   "metadata": {},
   "outputs": [
    {
     "data": {
      "text/plain": [
       "0          NaN\n",
       "1          NaN\n",
       "2          NaN\n",
       "3          NaN\n",
       "4          NaN\n",
       "          ... \n",
       "474470     NaN\n",
       "474471     NaN\n",
       "474472     NaN\n",
       "474473     NaN\n",
       "474474    True\n",
       "Name: on_view_api, Length: 474475, dtype: object"
      ]
     },
     "execution_count": 24,
     "metadata": {},
     "output_type": "execute_result"
    }
   ],
   "source": [
    "df2['on_view_api']"
   ]
  },
  {
   "cell_type": "markdown",
   "metadata": {},
   "source": [
    "### Not getting any NaN values in other columns on the Left, so I think all of the IDs in the OnDisplay are valid"
   ]
  },
  {
   "cell_type": "code",
   "execution_count": 22,
   "metadata": {},
   "outputs": [
    {
     "name": "stdout",
     "output_type": "stream",
     "text": [
      "Is Highlight\n",
      "False    472467\n",
      "True       2008\n",
      "Name: Is Highlight, dtype: int64\n",
      "\n",
      "\n",
      "Is Public Domain\n",
      "False    466505\n",
      "True       7970\n",
      "Name: Is Public Domain, dtype: int64\n",
      "\n",
      "\n",
      "Is Timeline Work\n",
      "False    239913\n",
      "True     234562\n",
      "Name: Is Timeline Work, dtype: int64\n",
      "\n",
      "\n",
      "OnDisplay\n",
      "NaN     437888\n",
      "True     36587\n",
      "Name: OnDisplay, dtype: int64\n",
      "\n",
      "\n"
     ]
    }
   ],
   "source": [
    "bool_columns2 = bool_columns + ['on_view_api']\n",
    "\n",
    "for col in bool_columns2:\n",
    "    print(col)\n",
    "    print(df2[col].value_counts(dropna=False))\n",
    "    print(\"\\n\")"
   ]
  },
  {
   "cell_type": "markdown",
   "metadata": {},
   "source": [
    "## Save file including new column"
   ]
  },
  {
   "cell_type": "code",
   "execution_count": 28,
   "metadata": {},
   "outputs": [],
   "source": [
    "df2.to_csv(\"MetObjects_OnDisplay.tsv\",\n",
    "           sep='\\t',\n",
    "           index=False,\n",
    "           encoding='utf-8'\n",
    "          )"
   ]
  },
  {
   "cell_type": "code",
   "execution_count": null,
   "metadata": {},
   "outputs": [],
   "source": []
  }
 ],
 "metadata": {
  "kernelspec": {
   "display_name": "Python 3",
   "language": "python",
   "name": "python3"
  },
  "language_info": {
   "codemirror_mode": {
    "name": "ipython",
    "version": 3
   },
   "file_extension": ".py",
   "mimetype": "text/x-python",
   "name": "python",
   "nbconvert_exporter": "python",
   "pygments_lexer": "ipython3",
   "version": "3.7.6"
  }
 },
 "nbformat": 4,
 "nbformat_minor": 4
}
